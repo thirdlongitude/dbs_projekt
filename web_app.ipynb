{
 "cells": [
  {
   "cell_type": "markdown",
   "metadata": {},
   "source": [
    "## Access the database"
   ]
  },
  {
   "cell_type": "code",
   "execution_count": 1,
   "metadata": {},
   "outputs": [],
   "source": [
    "# define parameters\n",
    "db_name = 'dbsprojekt' # db should already be created locally\n",
    "user = 'postgres'\n",
    "password = 'password5432'\n",
    "\n",
    "import_done = True # nach dem ersten Ausführen auf True setzen"
   ]
  },
  {
   "cell_type": "code",
   "execution_count": 2,
   "metadata": {},
   "outputs": [],
   "source": [
    "import pandas as pd\n",
    "# import numpy as np\n",
    "import psycopg2"
   ]
  },
  {
   "cell_type": "code",
   "execution_count": 3,
   "metadata": {},
   "outputs": [
    {
     "name": "stdout",
     "output_type": "stream",
     "text": [
      "Connecting to the PostgreSQL database...\n",
      "connected\n"
     ]
    }
   ],
   "source": [
    "# connect to database\n",
    "try:\n",
    "    print('Connecting to the PostgreSQL database...')\n",
    "    conn = psycopg2.connect(host = 'localhost', database = db_name, user = user, password = password)\n",
    "    \n",
    "    cur = conn.cursor()\n",
    "    \n",
    "    print('connected')\n",
    "    \n",
    "except (Exception, psycopg2.DatabaseError) as error:\n",
    "    print(error)"
   ]
  },
  {
   "cell_type": "markdown",
   "metadata": {},
   "source": [
    "## Read in data files and create tables"
   ]
  },
  {
   "cell_type": "code",
   "execution_count": 6,
   "metadata": {},
   "outputs": [
    {
     "name": "stdout",
     "output_type": "stream",
     "text": [
      "Attributes of the literature table: ['Titel', 'Autor', 'Jahr', 'Journal', 'Typ', 'DOI']\n",
      "Attributes of the journals table: ['Title', 'Rank', 'Impact_Factor', 'IF_5_Yr', 'Half_Life', 'Percentage_Citable', 'Avg_IF_Percentile']\n"
     ]
    }
   ],
   "source": [
    "# read files\n",
    "f1 = open('literature_dataset.csv')\n",
    "f2 = open('journal_dataset.csv')\n",
    "\n",
    "# list of all attributes in each table\n",
    "attr_list_lit = f1.readline().replace('\\n', '').split(sep = ',')\n",
    "attr_list_jif = f2.readline().replace('\\n', '').split(sep = ',')\n",
    "\n",
    "print('Attributes of the literature table: ' + str(attr_list_lit))\n",
    "print('Attributes of the journals table: ' + str(attr_list_jif))\n",
    "\n",
    "if not import_done:\n",
    "    try:\n",
    "        # create table for literature dataset\n",
    "        # get list of attributes\n",
    "        attr_list = ''\n",
    "        for i in attr_list_lit:\n",
    "            attr_list += '{} varchar, '.format(i)\n",
    "        attr_list = attr_list[:-2] # entfernt ', ' am Ende der Liste\n",
    "\n",
    "        # create literature table & import data\n",
    "        sql_create = 'CREATE TABLE literature ( {} );'.format(attr_list)\n",
    "        print(sql_create)\n",
    "        cur.execute(sql_create)\n",
    "        cur.copy_expert(\"\"\"COPY literature FROM STDIN WITH CSV HEADER DELIMITER AS ','\"\"\", f1)\n",
    "        \n",
    "        # create table for journal dataset\n",
    "        # get list of attributes        \n",
    "        attr_list = ''\n",
    "        for i in attr_list_jif:\n",
    "            attr_list += '{} varchar, '.format(i)\n",
    "        attr_list = attr_list[:-2]\n",
    "        \n",
    "        # create impact factors table & import data\n",
    "        sql_create = 'CREATE TABLE journals ( {} );'.format(attr_list)\n",
    "        print(sql_create)\n",
    "        cur.execute(sql_create)\n",
    "        cur.copy_expert(\"\"\"COPY journals FROM STDIN WITH CSV HEADER DELIMITER AS ','\"\"\", f2)\n",
    "    \n",
    "    except (Exception, psycopg2.DatabaseError) as error:\n",
    "        print(error)"
   ]
  },
  {
   "cell_type": "markdown",
   "metadata": {},
   "source": [
    "## Visualize data"
   ]
  },
  {
   "cell_type": "code",
   "execution_count": 10,
   "metadata": {},
   "outputs": [],
   "source": [
    "# show joined table\n",
    "sql_showtables = \"\"\"\n",
    "    SELECT *\n",
    "    FROM literature L, journals J\n",
    "    WHERE L.Journal = J.Title;\n",
    "    \"\"\""
   ]
  },
  {
   "cell_type": "code",
   "execution_count": 11,
   "metadata": {},
   "outputs": [],
   "source": [
    "try:\n",
    "    cur.execute(sql_showtables)\n",
    "    joined = cur.fetchall()\n",
    "    joined = pd.DataFrame(data = joined, columns = attr_list_lit + attr_list_jif)\n",
    "\n",
    "except (Exception, psycopg2.DatabaseError) as error:\n",
    "    print(error)"
   ]
  },
  {
   "cell_type": "code",
   "execution_count": 12,
   "metadata": {
    "scrolled": true
   },
   "outputs": [
    {
     "data": {
      "text/html": [
       "<div>\n",
       "<style scoped>\n",
       "    .dataframe tbody tr th:only-of-type {\n",
       "        vertical-align: middle;\n",
       "    }\n",
       "\n",
       "    .dataframe tbody tr th {\n",
       "        vertical-align: top;\n",
       "    }\n",
       "\n",
       "    .dataframe thead th {\n",
       "        text-align: right;\n",
       "    }\n",
       "</style>\n",
       "<table border=\"1\" class=\"dataframe\">\n",
       "  <thead>\n",
       "    <tr style=\"text-align: right;\">\n",
       "      <th></th>\n",
       "      <th>Titel</th>\n",
       "      <th>Autor</th>\n",
       "      <th>Jahr</th>\n",
       "      <th>Journal</th>\n",
       "      <th>Typ</th>\n",
       "      <th>DOI</th>\n",
       "      <th>Title</th>\n",
       "      <th>Rank</th>\n",
       "      <th>Impact_Factor</th>\n",
       "      <th>IF_5_Yr</th>\n",
       "      <th>Half_Life</th>\n",
       "      <th>Percentage_Citable</th>\n",
       "      <th>Avg_IF_Percentile</th>\n",
       "    </tr>\n",
       "  </thead>\n",
       "  <tbody>\n",
       "    <tr>\n",
       "      <th>0</th>\n",
       "      <td>implementation of local area vr environment us...</td>\n",
       "      <td>kim, soo-kyun; lee, chang-hee; kim, sun-jeong;...</td>\n",
       "      <td>2020</td>\n",
       "      <td>intelligent automation and soft computing</td>\n",
       "      <td>None</td>\n",
       "      <td>10.31209/2019.100000131</td>\n",
       "      <td>intelligent automation and soft computing</td>\n",
       "      <td>8692</td>\n",
       "      <td>1.276</td>\n",
       "      <td>1.177</td>\n",
       "      <td>4.0</td>\n",
       "      <td>100.0</td>\n",
       "      <td>23.999</td>\n",
       "    </tr>\n",
       "    <tr>\n",
       "      <th>1</th>\n",
       "      <td>distinction between real faces and photos by a...</td>\n",
       "      <td>lee, byong kwon; lee, yang sun</td>\n",
       "      <td>2020</td>\n",
       "      <td>intelligent automation and soft computing</td>\n",
       "      <td>None</td>\n",
       "      <td>10.31209/2019.100000134</td>\n",
       "      <td>intelligent automation and soft computing</td>\n",
       "      <td>8692</td>\n",
       "      <td>1.276</td>\n",
       "      <td>1.177</td>\n",
       "      <td>4.0</td>\n",
       "      <td>100.0</td>\n",
       "      <td>23.999</td>\n",
       "    </tr>\n",
       "    <tr>\n",
       "      <th>2</th>\n",
       "      <td>cognitive load and performance in immersive vi...</td>\n",
       "      <td>frederiksen, joakim grant; sorensen, stine may...</td>\n",
       "      <td>2020</td>\n",
       "      <td>surgical endoscopy and other interventional te...</td>\n",
       "      <td>None</td>\n",
       "      <td>10.1007/s00464-019-06887-8</td>\n",
       "      <td>surgical endoscopy and other interventional te...</td>\n",
       "      <td>2996</td>\n",
       "      <td>3.149</td>\n",
       "      <td>3.239</td>\n",
       "      <td>6.5</td>\n",
       "      <td>89.56</td>\n",
       "      <td>79.286</td>\n",
       "    </tr>\n",
       "    <tr>\n",
       "      <th>3</th>\n",
       "      <td>tracking attacks on virtual reality systems</td>\n",
       "      <td>rafique, muhammad usman; cheung, sen-ching s.</td>\n",
       "      <td>2020</td>\n",
       "      <td>ieee consumer electronics magazine</td>\n",
       "      <td>None</td>\n",
       "      <td>10.1109/MCE.2019.2953741</td>\n",
       "      <td>ieee consumer electronics magazine</td>\n",
       "      <td>1870</td>\n",
       "      <td>4.016</td>\n",
       "      <td>3.148</td>\n",
       "      <td>2.6</td>\n",
       "      <td>100.0</td>\n",
       "      <td>79.616</td>\n",
       "    </tr>\n",
       "    <tr>\n",
       "      <th>4</th>\n",
       "      <td>advantages and limits of virtual reality in le...</td>\n",
       "      <td>checa, david; bustillo, andres</td>\n",
       "      <td>2020</td>\n",
       "      <td>virtual reality</td>\n",
       "      <td>None</td>\n",
       "      <td>10.1007/s10055-019-00389-7</td>\n",
       "      <td>virtual reality</td>\n",
       "      <td>2304</td>\n",
       "      <td>3.634</td>\n",
       "      <td>2.941</td>\n",
       "      <td>6.4</td>\n",
       "      <td>91.67</td>\n",
       "      <td>75.081</td>\n",
       "    </tr>\n",
       "  </tbody>\n",
       "</table>\n",
       "</div>"
      ],
      "text/plain": [
       "                                               Titel  \\\n",
       "0  implementation of local area vr environment us...   \n",
       "1  distinction between real faces and photos by a...   \n",
       "2  cognitive load and performance in immersive vi...   \n",
       "3        tracking attacks on virtual reality systems   \n",
       "4  advantages and limits of virtual reality in le...   \n",
       "\n",
       "                                               Autor  Jahr  \\\n",
       "0  kim, soo-kyun; lee, chang-hee; kim, sun-jeong;...  2020   \n",
       "1                     lee, byong kwon; lee, yang sun  2020   \n",
       "2  frederiksen, joakim grant; sorensen, stine may...  2020   \n",
       "3      rafique, muhammad usman; cheung, sen-ching s.  2020   \n",
       "4                     checa, david; bustillo, andres  2020   \n",
       "\n",
       "                                             Journal   Typ  \\\n",
       "0          intelligent automation and soft computing  None   \n",
       "1          intelligent automation and soft computing  None   \n",
       "2  surgical endoscopy and other interventional te...  None   \n",
       "3                 ieee consumer electronics magazine  None   \n",
       "4                                    virtual reality  None   \n",
       "\n",
       "                          DOI  \\\n",
       "0     10.31209/2019.100000131   \n",
       "1     10.31209/2019.100000134   \n",
       "2  10.1007/s00464-019-06887-8   \n",
       "3    10.1109/MCE.2019.2953741   \n",
       "4  10.1007/s10055-019-00389-7   \n",
       "\n",
       "                                               Title  Rank Impact_Factor  \\\n",
       "0          intelligent automation and soft computing  8692         1.276   \n",
       "1          intelligent automation and soft computing  8692         1.276   \n",
       "2  surgical endoscopy and other interventional te...  2996         3.149   \n",
       "3                 ieee consumer electronics magazine  1870         4.016   \n",
       "4                                    virtual reality  2304         3.634   \n",
       "\n",
       "  IF_5_Yr Half_Life Percentage_Citable Avg_IF_Percentile  \n",
       "0   1.177       4.0              100.0            23.999  \n",
       "1   1.177       4.0              100.0            23.999  \n",
       "2   3.239       6.5              89.56            79.286  \n",
       "3   3.148       2.6              100.0            79.616  \n",
       "4   2.941       6.4              91.67            75.081  "
      ]
     },
     "execution_count": 12,
     "metadata": {},
     "output_type": "execute_result"
    }
   ],
   "source": [
    "joined.head(5)"
   ]
  },
  {
   "cell_type": "code",
   "execution_count": 14,
   "metadata": {},
   "outputs": [
    {
     "name": "stdout",
     "output_type": "stream",
     "text": [
      "Total rows after joining: 862\n"
     ]
    }
   ],
   "source": [
    "print('Total rows after joining: ' + str(len(joined)))"
   ]
  },
  {
   "cell_type": "code",
   "execution_count": 23,
   "metadata": {},
   "outputs": [],
   "source": [
    "# can use after getting an error\n",
    "# conn.rollback()"
   ]
  },
  {
   "cell_type": "markdown",
   "metadata": {},
   "source": [
    "## Define queries"
   ]
  },
  {
   "cell_type": "markdown",
   "metadata": {},
   "source": [
    "### Sorting\n",
    "#### Sort by rank"
   ]
  },
  {
   "cell_type": "code",
   "execution_count": 43,
   "metadata": {},
   "outputs": [
    {
     "name": "stdout",
     "output_type": "stream",
     "text": [
      "\n",
      "    SELECT L.Titel, Autor, J.Title, CAST (Rank AS INT), Impact_Factor, IF_5_Yr\n",
      "    FROM literature AS L, journals AS J\n",
      "    WHERE L.Journal = J.Title\n",
      "    ORDER BY Rank ASC;\n",
      "    \n"
     ]
    }
   ],
   "source": [
    "order = 'ASC'\n",
    "# order = 'DESC'\n",
    "\n",
    "sql_sortrank = \"\"\"\n",
    "    SELECT L.Titel, Autor, J.Title, CAST (Rank AS INT), Impact_Factor, IF_5_Yr\n",
    "    FROM literature AS L, journals AS J\n",
    "    WHERE L.Journal = J.Title\n",
    "    ORDER BY Rank {};\n",
    "    \"\"\".format(order)\n",
    "\n",
    "print(sql_sortrank)"
   ]
  },
  {
   "cell_type": "markdown",
   "metadata": {},
   "source": [
    "#### Sort by year"
   ]
  },
  {
   "cell_type": "code",
   "execution_count": 48,
   "metadata": {},
   "outputs": [
    {
     "name": "stdout",
     "output_type": "stream",
     "text": [
      "\n",
      "    SELECT L.Titel, Autor, CAST (Jahr AS INT), J.Title, Rank, IF_5_Yr\n",
      "    FROM literature AS L, journals AS J\n",
      "    WHERE L.Journal = J.Title\n",
      "    ORDER BY Jahr DESC;\n",
      "    \n"
     ]
    }
   ],
   "source": [
    "# order = 'ASC'\n",
    "order = 'DESC'\n",
    "\n",
    "sql_sortyear = \"\"\"\n",
    "    SELECT L.Titel, Autor, CAST (Jahr AS INT), J.Title, Rank, IF_5_Yr\n",
    "    FROM literature AS L, journals AS J\n",
    "    WHERE L.Journal = J.Title\n",
    "    ORDER BY Jahr {};\n",
    "    \"\"\".format(order)\n",
    "\n",
    "print(sql_sortyear)"
   ]
  },
  {
   "cell_type": "markdown",
   "metadata": {},
   "source": [
    "### Filtering\n",
    "#### Papers published after/during/before a certain year"
   ]
  },
  {
   "cell_type": "code",
   "execution_count": 60,
   "metadata": {},
   "outputs": [
    {
     "name": "stdout",
     "output_type": "stream",
     "text": [
      "\n",
      "    SELECT L.Titel, Autor, Jahr, J.Title, Rank, IF_5_Yr\n",
      "    FROM literature AS L, journals AS J\n",
      "    WHERE L.Journal = J.Title\n",
      "    AND CAST (Jahr AS INT) = 2018;\n",
      "    \n"
     ]
    }
   ],
   "source": [
    "filter_op = '='\n",
    "# filter_op = '<='\n",
    "# filter_op = '>='\n",
    "filter_year = '2018'\n",
    "\n",
    "sql_filteryear = \"\"\"\n",
    "    SELECT L.Titel, Autor, Jahr, J.Title, Rank, IF_5_Yr\n",
    "    FROM literature AS L, journals AS J\n",
    "    WHERE L.Journal = J.Title\n",
    "    AND CAST (Jahr AS INT) {} {};\n",
    "    \"\"\".format(filter_op, filter_year)\n",
    "\n",
    "print(sql_filteryear)"
   ]
  },
  {
   "cell_type": "markdown",
   "metadata": {},
   "source": [
    "#### Papers written by a certain author (filter using last names)"
   ]
  },
  {
   "cell_type": "code",
   "execution_count": 68,
   "metadata": {},
   "outputs": [
    {
     "name": "stdout",
     "output_type": "stream",
     "text": [
      "\n",
      "    SELECT L.Titel, Autor, J.Title, Rank, Impact_Factor, IF_5_Yr\n",
      "    FROM literature AS L, journals AS J\n",
      "    WHERE L.Journal = J.Title\n",
      "    AND Autor LIKE '%steinicke%'\n",
      "    \n"
     ]
    }
   ],
   "source": [
    "filter_author = 'steinicke'\n",
    "\n",
    "sql_filterauthor = \"\"\"\n",
    "    SELECT L.Titel, Autor, J.Title, Rank, Impact_Factor, IF_5_Yr\n",
    "    FROM literature AS L, journals AS J\n",
    "    WHERE L.Journal = J.Title\n",
    "    AND Autor LIKE '%{}%';\n",
    "    \"\"\".format(filter_author)\n",
    "\n",
    "print(sql_filterauthor)"
   ]
  },
  {
   "cell_type": "markdown",
   "metadata": {},
   "source": [
    "#### Papers published in a journal within a certain ranking"
   ]
  },
  {
   "cell_type": "code",
   "execution_count": 72,
   "metadata": {},
   "outputs": [
    {
     "name": "stdout",
     "output_type": "stream",
     "text": [
      "\n",
      "    SELECT L.Titel, Autor, Jahr, J.Title, Rank, IF_5_Yr\n",
      "    FROM literature AS L, journals AS J\n",
      "    WHERE L.Journal = J.Title\n",
      "    AND CAST (Rank AS INT) <= 500;\n",
      "    \n"
     ]
    }
   ],
   "source": [
    "filter_rank = '500'\n",
    "\n",
    "sql_filterrank = \"\"\"\n",
    "    SELECT L.Titel, Autor, Jahr, J.Title, Rank, IF_5_Yr\n",
    "    FROM literature AS L, journals AS J\n",
    "    WHERE L.Journal = J.Title\n",
    "    AND CAST (Rank AS INT) <= {};\n",
    "    \"\"\".format(filter_rank)\n",
    "\n",
    "print(sql_filterrank)"
   ]
  },
  {
   "cell_type": "markdown",
   "metadata": {},
   "source": [
    "## Execute query"
   ]
  },
  {
   "cell_type": "code",
   "execution_count": 73,
   "metadata": {},
   "outputs": [],
   "source": [
    "# enter query to execute\n",
    "sql_query = sql_filterrank"
   ]
  },
  {
   "cell_type": "code",
   "execution_count": 74,
   "metadata": {},
   "outputs": [],
   "source": [
    "try:\n",
    "    df = pd.read_sql_query(sql_query, conn)\n",
    "\n",
    "except (Exception, psycopg2.DatabaseError) as error:\n",
    "    print(error)"
   ]
  },
  {
   "cell_type": "markdown",
   "metadata": {},
   "source": [
    "## Display results"
   ]
  },
  {
   "cell_type": "code",
   "execution_count": 75,
   "metadata": {},
   "outputs": [
    {
     "data": {
      "text/html": [
       "<div>\n",
       "<style scoped>\n",
       "    .dataframe tbody tr th:only-of-type {\n",
       "        vertical-align: middle;\n",
       "    }\n",
       "\n",
       "    .dataframe tbody tr th {\n",
       "        vertical-align: top;\n",
       "    }\n",
       "\n",
       "    .dataframe thead th {\n",
       "        text-align: right;\n",
       "    }\n",
       "</style>\n",
       "<table border=\"1\" class=\"dataframe\">\n",
       "  <thead>\n",
       "    <tr style=\"text-align: right;\">\n",
       "      <th></th>\n",
       "      <th>titel</th>\n",
       "      <th>autor</th>\n",
       "      <th>jahr</th>\n",
       "      <th>title</th>\n",
       "      <th>rank</th>\n",
       "      <th>if_5_yr</th>\n",
       "    </tr>\n",
       "  </thead>\n",
       "  <tbody>\n",
       "    <tr>\n",
       "      <th>0</th>\n",
       "      <td>alohomora: motion-based hotword detection in h...</td>\n",
       "      <td>gu, jiaxi; yu, zhiwen; shen, kele</td>\n",
       "      <td>2020</td>\n",
       "      <td>ieee internet of things journal</td>\n",
       "      <td>313</td>\n",
       "      <td>11.705</td>\n",
       "    </tr>\n",
       "    <tr>\n",
       "      <th>1</th>\n",
       "      <td>skin-integrated wireless haptic interfaces for...</td>\n",
       "      <td>yu, xinge; xie, zhaoqian; yu, yang; lee, jungy...</td>\n",
       "      <td>2019</td>\n",
       "      <td>nature</td>\n",
       "      <td>15</td>\n",
       "      <td>46.486</td>\n",
       "    </tr>\n",
       "    <tr>\n",
       "      <th>2</th>\n",
       "      <td>a modality-independent network underlies the r...</td>\n",
       "      <td>huffman, derek j.; ekstrom, arne d.</td>\n",
       "      <td>2019</td>\n",
       "      <td>neuron</td>\n",
       "      <td>170</td>\n",
       "      <td>15.998</td>\n",
       "    </tr>\n",
       "    <tr>\n",
       "      <th>3</th>\n",
       "      <td>practical chromatic aberration correction in v...</td>\n",
       "      <td>zhan, tao; zou, junyu; xiong, jianghao; liu, x...</td>\n",
       "      <td>2020</td>\n",
       "      <td>advanced optical materials</td>\n",
       "      <td>435</td>\n",
       "      <td>8.224</td>\n",
       "    </tr>\n",
       "    <tr>\n",
       "      <th>4</th>\n",
       "      <td>a survey on 360 degrees video streaming: acqui...</td>\n",
       "      <td>fan, ching-ling; lo, wen-chih; pai, yu-tung; h...</td>\n",
       "      <td>2019</td>\n",
       "      <td>acm computing surveys</td>\n",
       "      <td>463</td>\n",
       "      <td>9.456</td>\n",
       "    </tr>\n",
       "    <tr>\n",
       "      <th>5</th>\n",
       "      <td>scalable 360 degrees video stream delivery: ch...</td>\n",
       "      <td>zink, michael; sitaraman, ramesh; nahrstedt, k...</td>\n",
       "      <td>2019</td>\n",
       "      <td>proceedings of the ieee</td>\n",
       "      <td>303</td>\n",
       "      <td>11.753</td>\n",
       "    </tr>\n",
       "    <tr>\n",
       "      <th>6</th>\n",
       "      <td>mixed reality in visceral surgery development ...</td>\n",
       "      <td>sauer, igor m.; queisner, moritz; tang, peter;...</td>\n",
       "      <td>2017</td>\n",
       "      <td>annals of surgery</td>\n",
       "      <td>309</td>\n",
       "      <td>9.306</td>\n",
       "    </tr>\n",
       "    <tr>\n",
       "      <th>7</th>\n",
       "      <td>virtual reality improves embodiment and neurop...</td>\n",
       "      <td>pozeg, polona; palluel, estelle; ronchi, rober...</td>\n",
       "      <td>2017</td>\n",
       "      <td>neurology</td>\n",
       "      <td>393</td>\n",
       "      <td>8.899</td>\n",
       "    </tr>\n",
       "    <tr>\n",
       "      <th>8</th>\n",
       "      <td>automated design of freeform imaging systems</td>\n",
       "      <td>yang, tong; jin, guo-fan; zhu, jun</td>\n",
       "      <td>2017</td>\n",
       "      <td>light-science &amp; applications</td>\n",
       "      <td>181</td>\n",
       "      <td>15.005</td>\n",
       "    </tr>\n",
       "    <tr>\n",
       "      <th>9</th>\n",
       "      <td>enabling focus cues in head-mounted displays</td>\n",
       "      <td>hua, hong</td>\n",
       "      <td>2017</td>\n",
       "      <td>proceedings of the ieee</td>\n",
       "      <td>303</td>\n",
       "      <td>11.753</td>\n",
       "    </tr>\n",
       "  </tbody>\n",
       "</table>\n",
       "</div>"
      ],
      "text/plain": [
       "                                               titel  \\\n",
       "0  alohomora: motion-based hotword detection in h...   \n",
       "1  skin-integrated wireless haptic interfaces for...   \n",
       "2  a modality-independent network underlies the r...   \n",
       "3  practical chromatic aberration correction in v...   \n",
       "4  a survey on 360 degrees video streaming: acqui...   \n",
       "5  scalable 360 degrees video stream delivery: ch...   \n",
       "6  mixed reality in visceral surgery development ...   \n",
       "7  virtual reality improves embodiment and neurop...   \n",
       "8       automated design of freeform imaging systems   \n",
       "9       enabling focus cues in head-mounted displays   \n",
       "\n",
       "                                               autor  jahr  \\\n",
       "0                  gu, jiaxi; yu, zhiwen; shen, kele  2020   \n",
       "1  yu, xinge; xie, zhaoqian; yu, yang; lee, jungy...  2019   \n",
       "2                huffman, derek j.; ekstrom, arne d.  2019   \n",
       "3  zhan, tao; zou, junyu; xiong, jianghao; liu, x...  2020   \n",
       "4  fan, ching-ling; lo, wen-chih; pai, yu-tung; h...  2019   \n",
       "5  zink, michael; sitaraman, ramesh; nahrstedt, k...  2019   \n",
       "6  sauer, igor m.; queisner, moritz; tang, peter;...  2017   \n",
       "7  pozeg, polona; palluel, estelle; ronchi, rober...  2017   \n",
       "8                 yang, tong; jin, guo-fan; zhu, jun  2017   \n",
       "9                                          hua, hong  2017   \n",
       "\n",
       "                             title rank if_5_yr  \n",
       "0  ieee internet of things journal  313  11.705  \n",
       "1                           nature   15  46.486  \n",
       "2                           neuron  170  15.998  \n",
       "3       advanced optical materials  435   8.224  \n",
       "4            acm computing surveys  463   9.456  \n",
       "5          proceedings of the ieee  303  11.753  \n",
       "6                annals of surgery  309   9.306  \n",
       "7                        neurology  393   8.899  \n",
       "8     light-science & applications  181  15.005  \n",
       "9          proceedings of the ieee  303  11.753  "
      ]
     },
     "execution_count": 75,
     "metadata": {},
     "output_type": "execute_result"
    }
   ],
   "source": [
    "# display part of the results\n",
    "numrows = 10\n",
    "df.head(numrows)\n",
    "\n",
    "# display all\n",
    "# df"
   ]
  },
  {
   "cell_type": "markdown",
   "metadata": {},
   "source": [
    "## Close the connection"
   ]
  },
  {
   "cell_type": "code",
   "execution_count": 76,
   "metadata": {},
   "outputs": [],
   "source": [
    "try:\n",
    "    conn.commit()\n",
    "\n",
    "except (Exception, psycopg2.DatabaseError) as error:\n",
    "    print(error)"
   ]
  },
  {
   "cell_type": "code",
   "execution_count": 77,
   "metadata": {},
   "outputs": [
    {
     "name": "stdout",
     "output_type": "stream",
     "text": [
      "connection closed\n"
     ]
    }
   ],
   "source": [
    "cur.close()\n",
    "print('connection closed')"
   ]
  },
  {
   "cell_type": "code",
   "execution_count": null,
   "metadata": {},
   "outputs": [],
   "source": []
  }
 ],
 "metadata": {
  "kernelspec": {
   "display_name": "Python 3",
   "language": "python",
   "name": "python3"
  },
  "language_info": {
   "codemirror_mode": {
    "name": "ipython",
    "version": 3
   },
   "file_extension": ".py",
   "mimetype": "text/x-python",
   "name": "python",
   "nbconvert_exporter": "python",
   "pygments_lexer": "ipython3",
   "version": "3.6.5"
  }
 },
 "nbformat": 4,
 "nbformat_minor": 2
}
