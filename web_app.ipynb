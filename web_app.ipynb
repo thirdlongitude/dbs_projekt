{
 "cells": [
  {
   "cell_type": "markdown",
   "metadata": {},
   "source": [
    "## Access the database"
   ]
  },
  {
   "cell_type": "code",
   "execution_count": 25,
   "metadata": {},
   "outputs": [],
   "source": [
    "# define parameters\n",
    "db_name = 'dbsprojekt' # db should already be created locally\n",
    "user = 'postgres'\n",
    "password = 'password5432'\n",
    "\n",
    "import_done = True # nach dem ersten Ausführen auf True setzen"
   ]
  },
  {
   "cell_type": "code",
   "execution_count": 1,
   "metadata": {},
   "outputs": [],
   "source": [
    "import pandas as pd\n",
    "# import numpy as np\n",
    "import psycopg2"
   ]
  },
  {
   "cell_type": "code",
   "execution_count": 3,
   "metadata": {},
   "outputs": [
    {
     "name": "stdout",
     "output_type": "stream",
     "text": [
      "Connecting to the PostgreSQL database...\n",
      "connected\n"
     ]
    }
   ],
   "source": [
    "# connect to database\n",
    "try:\n",
    "    print('Connecting to the PostgreSQL database...')\n",
    "    conn = psycopg2.connect(host = 'localhost', database = db_name, user = user, password = password)\n",
    "    \n",
    "    cur = conn.cursor()\n",
    "    \n",
    "    print('connected')\n",
    "    \n",
    "except (Exception, psycopg2.DatabaseError) as error:\n",
    "    print(error)"
   ]
  },
  {
   "cell_type": "markdown",
   "metadata": {},
   "source": [
    "## Read in data files and create tables"
   ]
  },
  {
   "cell_type": "code",
   "execution_count": 26,
   "metadata": {},
   "outputs": [],
   "source": [
    "# read files\n",
    "f1 = open('literature_dataset.csv')\n",
    "f2 = open('journal_dataset.csv')\n",
    "\n",
    "# list of all attributes in each table\n",
    "attr_list_lit = f1.readline().replace('\\n', '').split(sep = ',')\n",
    "attr_list_jif = f2.readline().replace('\\n', '').split(sep = ',')\n",
    "\n",
    "if not import_done:\n",
    "    try:\n",
    "        # create table for literature dataset\n",
    "        # get list of attributes\n",
    "        attr_list = ''\n",
    "        for i in attr_list_lit:\n",
    "            attr_list += '{} varchar, '.format(i)\n",
    "        attr_list = attr_list[:-2] # entfernt ', ' am Ende der Liste\n",
    "\n",
    "        # create literature table & import data\n",
    "        sql_create = 'CREATE TABLE literature ( {} );'.format(attr_list)\n",
    "        print(sql_create)\n",
    "        cur.execute(sql_create)\n",
    "        cur.copy_expert(\"\"\"COPY literature FROM STDIN WITH CSV HEADER DELIMITER AS ','\"\"\", f1)\n",
    "        \n",
    "        # create table for journal dataset\n",
    "        # get list of attributes        \n",
    "        attr_list = ''\n",
    "        for i in attr_list_jif:\n",
    "            attr_list += '{} varchar, '.format(i)\n",
    "        attr_list = attr_list[:-2]\n",
    "        \n",
    "        # create impact factors table & import data\n",
    "        sql_create = 'CREATE TABLE journals ( {} );'.format(attr_list)\n",
    "        print(sql_create)\n",
    "        cur.execute(sql_create)\n",
    "        cur.copy_expert(\"\"\"COPY journals FROM STDIN WITH CSV HEADER DELIMITER AS ','\"\"\", f2)\n",
    "    \n",
    "    except (Exception, psycopg2.DatabaseError) as error:\n",
    "        print(error)"
   ]
  },
  {
   "cell_type": "markdown",
   "metadata": {},
   "source": [
    "## Execute queries"
   ]
  },
  {
   "cell_type": "code",
   "execution_count": 27,
   "metadata": {},
   "outputs": [],
   "source": [
    "sql_showtable = \"\"\"\n",
    "    SELECT *\n",
    "    FROM literature;\n",
    "    \"\"\"\n",
    "\n",
    "# query to execute\n",
    "sql_query = sql_showtable"
   ]
  },
  {
   "cell_type": "code",
   "execution_count": 28,
   "metadata": {},
   "outputs": [],
   "source": [
    "try:\n",
    "    cur.execute(sql_query)\n",
    "    some_results = cur.fetchmany(10)\n",
    "    df = pd.DataFrame(data = some_results, columns = attr_list_lit)\n",
    "\n",
    "except (Exception, psycopg2.DatabaseError) as error:\n",
    "    print(error)"
   ]
  },
  {
   "cell_type": "markdown",
   "metadata": {},
   "source": [
    "## Display results"
   ]
  },
  {
   "cell_type": "code",
   "execution_count": 29,
   "metadata": {},
   "outputs": [
    {
     "data": {
      "text/html": [
       "<div>\n",
       "<style scoped>\n",
       "    .dataframe tbody tr th:only-of-type {\n",
       "        vertical-align: middle;\n",
       "    }\n",
       "\n",
       "    .dataframe tbody tr th {\n",
       "        vertical-align: top;\n",
       "    }\n",
       "\n",
       "    .dataframe thead th {\n",
       "        text-align: right;\n",
       "    }\n",
       "</style>\n",
       "<table border=\"1\" class=\"dataframe\">\n",
       "  <thead>\n",
       "    <tr style=\"text-align: right;\">\n",
       "      <th></th>\n",
       "      <th>Titel</th>\n",
       "      <th>Autor</th>\n",
       "      <th>Jahr</th>\n",
       "      <th>Journal</th>\n",
       "      <th>Typ</th>\n",
       "      <th>DOI</th>\n",
       "    </tr>\n",
       "  </thead>\n",
       "  <tbody>\n",
       "    <tr>\n",
       "      <th>0</th>\n",
       "      <td>implementation of local area vr environment us...</td>\n",
       "      <td>kim, soo-kyun; lee, chang-hee; kim, sun-jeong;...</td>\n",
       "      <td>2020</td>\n",
       "      <td>intelligent automation and soft computing</td>\n",
       "      <td>None</td>\n",
       "      <td>10.31209/2019.100000131</td>\n",
       "    </tr>\n",
       "    <tr>\n",
       "      <th>1</th>\n",
       "      <td>distinction between real faces and photos by a...</td>\n",
       "      <td>lee, byong kwon; lee, yang sun</td>\n",
       "      <td>2020</td>\n",
       "      <td>intelligent automation and soft computing</td>\n",
       "      <td>None</td>\n",
       "      <td>10.31209/2019.100000134</td>\n",
       "    </tr>\n",
       "    <tr>\n",
       "      <th>2</th>\n",
       "      <td>cognitive load and performance in immersive vi...</td>\n",
       "      <td>frederiksen, joakim grant; sorensen, stine may...</td>\n",
       "      <td>2020</td>\n",
       "      <td>surgical endoscopy and other interventional te...</td>\n",
       "      <td>None</td>\n",
       "      <td>10.1007/s00464-019-06887-8</td>\n",
       "    </tr>\n",
       "    <tr>\n",
       "      <th>3</th>\n",
       "      <td>tracking attacks on virtual reality systems</td>\n",
       "      <td>rafique, muhammad usman; cheung, sen-ching s.</td>\n",
       "      <td>2020</td>\n",
       "      <td>ieee consumer electronics magazine</td>\n",
       "      <td>None</td>\n",
       "      <td>10.1109/MCE.2019.2953741</td>\n",
       "    </tr>\n",
       "    <tr>\n",
       "      <th>4</th>\n",
       "      <td>advantages and limits of virtual reality in le...</td>\n",
       "      <td>checa, david; bustillo, andres</td>\n",
       "      <td>2020</td>\n",
       "      <td>virtual reality</td>\n",
       "      <td>None</td>\n",
       "      <td>10.1007/s10055-019-00389-7</td>\n",
       "    </tr>\n",
       "    <tr>\n",
       "      <th>5</th>\n",
       "      <td>the relationship between disgust sensitivity a...</td>\n",
       "      <td>ammann, jeanine; hartmann, christina; peterhan...</td>\n",
       "      <td>2020</td>\n",
       "      <td>food quality and preference</td>\n",
       "      <td>None</td>\n",
       "      <td>10.1016/j.foodqual.2019.103833</td>\n",
       "    </tr>\n",
       "    <tr>\n",
       "      <th>6</th>\n",
       "      <td>cybersickness in virtual reality head-mounted ...</td>\n",
       "      <td>curry, christopher; li, ruixuan; peterson, nic...</td>\n",
       "      <td>2020</td>\n",
       "      <td>international journal of human-computer intera...</td>\n",
       "      <td>None</td>\n",
       "      <td>10.1080/10447318.2020.1726108</td>\n",
       "    </tr>\n",
       "    <tr>\n",
       "      <th>7</th>\n",
       "      <td>relationship between ocular fatigue and use of...</td>\n",
       "      <td>lee, sang hyeok; kim, martha; kim, hyosun; par...</td>\n",
       "      <td>2020</td>\n",
       "      <td>journal of the korean ophthalmological society</td>\n",
       "      <td>None</td>\n",
       "      <td>10.3341/jkos.2020.61.2.125</td>\n",
       "    </tr>\n",
       "    <tr>\n",
       "      <th>8</th>\n",
       "      <td>depth perception in shuffleboard: depth cues e...</td>\n",
       "      <td>ping, jiamin; weng, dongdong; liu, yue; wang, ...</td>\n",
       "      <td>2020</td>\n",
       "      <td>journal of the society for information display</td>\n",
       "      <td>None</td>\n",
       "      <td>10.1002/jsid.840</td>\n",
       "    </tr>\n",
       "    <tr>\n",
       "      <th>9</th>\n",
       "      <td>the challenges of using head mounted virtual r...</td>\n",
       "      <td>fransson, goran; holmberg, jorgen; westelius, ...</td>\n",
       "      <td>2020</td>\n",
       "      <td>education and information technologies</td>\n",
       "      <td>None</td>\n",
       "      <td>10.1007/s10639-020-10119-1</td>\n",
       "    </tr>\n",
       "  </tbody>\n",
       "</table>\n",
       "</div>"
      ],
      "text/plain": [
       "                                               Titel  \\\n",
       "0  implementation of local area vr environment us...   \n",
       "1  distinction between real faces and photos by a...   \n",
       "2  cognitive load and performance in immersive vi...   \n",
       "3        tracking attacks on virtual reality systems   \n",
       "4  advantages and limits of virtual reality in le...   \n",
       "5  the relationship between disgust sensitivity a...   \n",
       "6  cybersickness in virtual reality head-mounted ...   \n",
       "7  relationship between ocular fatigue and use of...   \n",
       "8  depth perception in shuffleboard: depth cues e...   \n",
       "9  the challenges of using head mounted virtual r...   \n",
       "\n",
       "                                               Autor  Jahr  \\\n",
       "0  kim, soo-kyun; lee, chang-hee; kim, sun-jeong;...  2020   \n",
       "1                     lee, byong kwon; lee, yang sun  2020   \n",
       "2  frederiksen, joakim grant; sorensen, stine may...  2020   \n",
       "3      rafique, muhammad usman; cheung, sen-ching s.  2020   \n",
       "4                     checa, david; bustillo, andres  2020   \n",
       "5  ammann, jeanine; hartmann, christina; peterhan...  2020   \n",
       "6  curry, christopher; li, ruixuan; peterson, nic...  2020   \n",
       "7  lee, sang hyeok; kim, martha; kim, hyosun; par...  2020   \n",
       "8  ping, jiamin; weng, dongdong; liu, yue; wang, ...  2020   \n",
       "9  fransson, goran; holmberg, jorgen; westelius, ...  2020   \n",
       "\n",
       "                                             Journal   Typ  \\\n",
       "0          intelligent automation and soft computing  None   \n",
       "1          intelligent automation and soft computing  None   \n",
       "2  surgical endoscopy and other interventional te...  None   \n",
       "3                 ieee consumer electronics magazine  None   \n",
       "4                                    virtual reality  None   \n",
       "5                        food quality and preference  None   \n",
       "6  international journal of human-computer intera...  None   \n",
       "7     journal of the korean ophthalmological society  None   \n",
       "8     journal of the society for information display  None   \n",
       "9             education and information technologies  None   \n",
       "\n",
       "                              DOI  \n",
       "0         10.31209/2019.100000131  \n",
       "1         10.31209/2019.100000134  \n",
       "2      10.1007/s00464-019-06887-8  \n",
       "3        10.1109/MCE.2019.2953741  \n",
       "4      10.1007/s10055-019-00389-7  \n",
       "5  10.1016/j.foodqual.2019.103833  \n",
       "6   10.1080/10447318.2020.1726108  \n",
       "7      10.3341/jkos.2020.61.2.125  \n",
       "8                10.1002/jsid.840  \n",
       "9      10.1007/s10639-020-10119-1  "
      ]
     },
     "execution_count": 29,
     "metadata": {},
     "output_type": "execute_result"
    }
   ],
   "source": [
    "df"
   ]
  },
  {
   "cell_type": "code",
   "execution_count": 23,
   "metadata": {},
   "outputs": [],
   "source": [
    "# can use after getting an error\n",
    "# conn.rollback()"
   ]
  },
  {
   "cell_type": "markdown",
   "metadata": {},
   "source": [
    "## Close the connection"
   ]
  },
  {
   "cell_type": "code",
   "execution_count": 30,
   "metadata": {},
   "outputs": [],
   "source": [
    "try:\n",
    "    conn.commit()\n",
    "\n",
    "except (Exception, psycopg2.DatabaseError) as error:\n",
    "    print(error)"
   ]
  },
  {
   "cell_type": "code",
   "execution_count": 31,
   "metadata": {},
   "outputs": [
    {
     "name": "stdout",
     "output_type": "stream",
     "text": [
      "connection closed\n"
     ]
    }
   ],
   "source": [
    "cur.close()\n",
    "print('connection closed')"
   ]
  },
  {
   "cell_type": "code",
   "execution_count": null,
   "metadata": {},
   "outputs": [],
   "source": []
  }
 ],
 "metadata": {
  "kernelspec": {
   "display_name": "Python 3",
   "language": "python",
   "name": "python3"
  },
  "language_info": {
   "codemirror_mode": {
    "name": "ipython",
    "version": 3
   },
   "file_extension": ".py",
   "mimetype": "text/x-python",
   "name": "python",
   "nbconvert_exporter": "python",
   "pygments_lexer": "ipython3",
   "version": "3.6.5"
  }
 },
 "nbformat": 4,
 "nbformat_minor": 2
}
